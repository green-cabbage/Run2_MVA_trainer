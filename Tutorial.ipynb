{
 "cells": [
  {
   "cell_type": "markdown",
   "id": "09f2cf78-6d95-436c-8a8f-b8c80d462263",
   "metadata": {},
   "source": [
    "Terminal comamnds for training new MVA for specific categories"
   ]
  },
  {
   "cell_type": "code",
   "execution_count": null,
   "id": "7e40ffe9-bfdb-414f-a16d-a35937d5fb1c",
   "metadata": {},
   "outputs": [],
   "source": [
    "# use --vbf flag if you want to train with VBF production category, if not then ggH category is chosen\n",
    "! python my_trainer_withWeight_gpu.py --vbf"
   ]
  },
  {
   "cell_type": "code",
   "execution_count": null,
   "id": "74fa20ad-a4af-4ded-bc3a-5323579cd659",
   "metadata": {},
   "outputs": [],
   "source": []
  }
 ],
 "metadata": {
  "kernelspec": {
   "display_name": "Python [conda env:coffea_prototype]",
   "language": "python",
   "name": "conda-env-coffea_prototype-py"
  },
  "language_info": {
   "codemirror_mode": {
    "name": "ipython",
    "version": 3
   },
   "file_extension": ".py",
   "mimetype": "text/x-python",
   "name": "python",
   "nbconvert_exporter": "python",
   "pygments_lexer": "ipython3",
   "version": "3.12.5"
  }
 },
 "nbformat": 4,
 "nbformat_minor": 5
}
