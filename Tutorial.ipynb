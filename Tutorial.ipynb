{
 "cells": [
  {
   "cell_type": "markdown",
   "id": "09f2cf78-6d95-436c-8a8f-b8c80d462263",
   "metadata": {},
   "source": [
    "Terminal comamnds for training new MVA for specific categories\n"
   ]
  },
  {
   "cell_type": "code",
   "execution_count": 5,
   "id": "7e40ffe9-bfdb-414f-a16d-a35937d5fb1c",
   "metadata": {
    "scrolled": true
   },
   "outputs": [],
   "source": [
    "# use --vbf flag if you want to train with VBF production category, if not then ggH category is chosen\n",
    "# ! python my_trainer_withWeight_gpu.py --name WgtOff_includeQGL\n",
    "# ! nohup python my_trainer_withWeight_gpu.py --name test &> output.log\n",
    "# ! python my_trainer_withWeight_gpu.py --name WgtON_original_AN_BDT --year 2018\n",
    "# ! python my_trainer_withWeight_gpu.py --name WgtON_original_AN_BDT_DyOnly --year 2018\n",
    "# ! python my_trainer_withWeight_gpu.py --name WgtON_original_AN_BDT_DyOnly_noDimuRap --year 2018\n",
    "# ! nohup python my_trainer_withWeight_gpu.py --name WgtON_original_AN_BDT_Sept27 --year 2017 &> output2017.log\n",
    "! nohup python my_trainer_withWeight_gpu.py --name WgtON_original_AN_BDT_noDimuRap_Sept27 --year 2016preVFP &> out2016pre.log"
   ]
  },
  {
   "cell_type": "code",
   "execution_count": 5,
   "id": "74fa20ad-a4af-4ded-bc3a-5323579cd659",
   "metadata": {},
   "outputs": [],
   "source": [
    "import coffea.util as util\n",
    "# coffea.util"
   ]
  },
  {
   "cell_type": "code",
   "execution_count": 65,
   "id": "37bbfc74-aac4-4c15-b0f6-b1a6345616ed",
   "metadata": {},
   "outputs": [
    {
     "name": "stdout",
     "output_type": "stream",
     "text": [
      "scalers_test_2018_0.npy  scalers_test_2018_3.npy  test_2018_2.pkl\n",
      "scalers_test_2018_1.npy  test_2018_0.pkl\t  test_2018_3.pkl\n",
      "scalers_test_2018_2.npy  test_2018_1.pkl\n"
     ]
    }
   ],
   "source": [
    "! ls /depot/cms/users/yun79/hmm/trained_MVAs/bdt_test_2018"
   ]
  },
  {
   "cell_type": "code",
   "execution_count": 72,
   "id": "50bc93de-1450-4ea8-86ea-06a2cf307ca1",
   "metadata": {},
   "outputs": [
    {
     "name": "stdout",
     "output_type": "stream",
     "text": [
      "scalers_WgtOff_includeQGL_2018_0.npy  WgtOff_includeQGL_2018_0.pkl\n",
      "scalers_WgtOff_includeQGL_2018_1.npy  WgtOff_includeQGL_2018_1.pkl\n",
      "scalers_WgtOff_includeQGL_2018_2.npy  WgtOff_includeQGL_2018_2.pkl\n",
      "scalers_WgtOff_includeQGL_2018_3.npy  WgtOff_includeQGL_2018_3.pkl\n"
     ]
    }
   ],
   "source": [
    "! ls /depot/cms/users/yun79/hmm/trained_MVAs/bdt_WgtOff_includeQGL_2018"
   ]
  },
  {
   "cell_type": "code",
   "execution_count": 94,
   "id": "c5ccb74e-46fd-49e4-8529-b742fab86128",
   "metadata": {},
   "outputs": [
    {
     "name": "stdout",
     "output_type": "stream",
     "text": [
      "0.2667076541487307\n",
      "3976748\n",
      "3978301\n"
     ]
    }
   ],
   "source": [
    "stage2_save_path = \"/work/users/yun79/stage2_output/BDT_test_WgtON_original_AN_BDT_DyOnly_AllSigNBkg_NewBDTedges20Sept2024\" # path where stage2 output is saved \n",
    "import awkward as ak\n",
    "events = ak.from_parquet(stage2_save_path + \"/ggh/2018/processed_events_bkgMC*.parquet\")\n",
    "# events = ak.from_parquet(stage2_save_path + \"/ggh/2018/processed_events_sigMC_ggh.parquet\")\n",
    "\n",
    "not_identical = ak.sum(events.subCategory_idx != events.subCategory_idx_val)\n",
    "rate = not_identical/len(events.subCategory_idx)\n",
    "print(rate)\n",
    "print(ak.sum(events.subCategory_idx ==0))\n",
    "print(ak.sum(events.subCategory_idx_val ==0))"
   ]
  },
  {
   "cell_type": "code",
   "execution_count": 84,
   "id": "180b3a56-e9e9-4956-9af4-8dfc409f3659",
   "metadata": {},
   "outputs": [
    {
     "data": {
      "image/png": "[encoded data removed]",
      "text/plain": [
       "<Figure size 640x480 with 1 Axes>"
      ]
     },
     "metadata": {},
     "output_type": "display_data"
    }
   ],
   "source": [
    "import numpy as np\n",
    "import matplotlib.pyplot as plt\n",
    "events = ak.from_parquet(stage2_save_path + \"/ggh/2018/processed_events_bkgMC*.parquet\")\n",
    "# events = ak.from_parquet(stage2_save_path + \"/ggh/2018/processed_events_sigMC_ggh.parquet\")\n",
    "binning = np.linspace(-1,5,7)\n",
    "results_eval, edges = np.histogram(events.subCategory_idx ,bins=binning)\n",
    "plt.stairs(results_eval, edges=edges, label=\"results_eval\")\n",
    "results_val, edges = np.histogram(events.subCategory_idx_val ,bins=binning)\n",
    "plt.stairs(results_val, edges=edges, label=\"results_val\")\n",
    "plt.legend()\n",
    "plt.show()"
   ]
  },
  {
   "cell_type": "code",
   "execution_count": 68,
   "id": "b9971e49-7ac5-4aca-bd68-188abe38fe8f",
   "metadata": {},
   "outputs": [
    {
     "name": "stdout",
     "output_type": "stream",
     "text": [
      "processed_events_bkgMC_dy.parquet   processed_events_data.parquet\n",
      "processed_events_bkgMC_ewk.parquet  processed_events_sigMC_ggh.parquet\n",
      "processed_events_bkgMC_st.parquet   processed_events_sigMC_vbf.parquet\n",
      "processed_events_bkgMC_tt.parquet\n"
     ]
    }
   ],
   "source": [
    "! ls /work/users/yun79/stage2_output/BDT_test_WgtON_original_AN_BDT_DyOnly_AllSigNBkg_NewBDTedges20Sept2024/ggh/2018"
   ]
  },
  {
   "cell_type": "code",
   "execution_count": null,
   "id": "e1459247-f68f-4031-85e2-b10164d5e3bc",
   "metadata": {},
   "outputs": [],
   "source": [
    "0.26530018528451865"
   ]
  }
 ],
 "metadata": {
  "kernelspec": {
   "display_name": "Python [conda env:root632]",
   "language": "python",
   "name": "conda-env-root632-py"
  },
  "language_info": {
   "codemirror_mode": {
    "name": "ipython",
    "version": 3
   },
   "file_extension": ".py",
   "mimetype": "text/x-python",
   "name": "python",
   "nbconvert_exporter": "python",
   "pygments_lexer": "ipython3",
   "version": "3.12.5"
  }
 },
 "nbformat": 4,
 "nbformat_minor": 5
}
