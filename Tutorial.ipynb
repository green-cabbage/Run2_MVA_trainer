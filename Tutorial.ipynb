{
 "cells": [
  {
   "cell_type": "markdown",
   "id": "09f2cf78-6d95-436c-8a8f-b8c80d462263",
   "metadata": {},
   "source": [
    "Terminal comamnds for training new MVA for specific categories\n"
   ]
  },
  {
   "cell_type": "code",
   "execution_count": null,
   "id": "7e40ffe9-bfdb-414f-a16d-a35937d5fb1c",
   "metadata": {
    "scrolled": true
   },
   "outputs": [],
   "source": [
    "# use --vbf flag if you want to train with VBF production category, if not then ggH category is chosen\n",
    "# ! python my_trainer_withWeight_gpu.py --name WgtOff_includeQGL\n",
    "# ! nohup python my_trainer_withWeight_gpu.py --name test &> output.log\n",
    "# ! python my_trainer_withWeight_gpu.py --name WgtON_original_AN_BDT --year 2018\n",
    "# ! python my_trainer_withWeight_gpu.py --name WgtON_original_AN_BDT_DyOnly --year 2018\n",
    "# ! python my_trainer_withWeight_gpu.py --name WgtON_original_AN_BDT_DyOnly_noDimuRap --year 2018\n",
    "# ! nohup python my_trainer_withWeight_gpu.py --name WgtON_original_AN_BDT_Sept27 --year 2017 &> output2017.log\n",
    "# ! nohup python my_trainer_withWeight_gpu.py --name WgtON_original_AN_BDT_noDimuRap_Sept27 --year 2016preVFP &> out2016pre.log\n",
    "# ! python my_trainer_withWeight_gpu.py --name test --year 2018 \n",
    "# ! python my_trainer_withWeight_gpu.py --name WgtON_original_AN_BDT_Sept29 --year 2018 \n",
    "# ! python my_trainer_withWeight_gpu.py --name PhiFixed_rereco_yun --year 2016 -load /depot/cms/users/yun79/hmm/copperheadV1clean/DmitryMaster_JECoff_GeofitFixed_Nov01/stage1_output/\n",
    "\n",
    "! python my_trainer_withWeight_gpu.py --name test_UL_Nov12 --year 2018 -load /depot/cms/users/yun79/results/stage1/BDT_WgtON_original_AN_BDTV2_Oct18\n"
   ]
  },
  {
   "cell_type": "code",
   "execution_count": 6,
   "id": "7bc60d65-ee13-4ad8-b464-a21b3c3a63b8",
   "metadata": {},
   "outputs": [
    {
     "name": "stdout",
     "output_type": "stream",
     "text": [
      "2016postVFP  2016preVFP  2017  2018\n"
     ]
    }
   ],
   "source": [
    "! ls /depot/cms/users/yun79/results/stage1/BDT_WgtON_original_AN_BDTV2_Oct18"
   ]
  },
  {
   "cell_type": "code",
   "execution_count": 66,
   "id": "cbf22a8c-f1c5-430f-b716-e9f9e1f83ffb",
   "metadata": {},
   "outputs": [
    {
     "data": {
      "text/html": [
       "<div>\n",
       "<style scoped>\n",
       "    .dataframe tbody tr th:only-of-type {\n",
       "        vertical-align: middle;\n",
       "    }\n",
       "\n",
       "    .dataframe tbody tr th {\n",
       "        vertical-align: top;\n",
       "    }\n",
       "\n",
       "    .dataframe thead th {\n",
       "        text-align: right;\n",
       "    }\n",
       "</style>\n",
       "<table border=\"1\" class=\"dataframe\">\n",
       "  <thead>\n",
       "    <tr style=\"text-align: right;\">\n",
       "      <th></th>\n",
       "      <th>LHEMass</th>\n",
       "      <th>dataset</th>\n",
       "      <th>dimuon_cos_theta_cs</th>\n",
       "      <th>dimuon_cos_theta_cs_pisa</th>\n",
       "      <th>dimuon_dEta</th>\n",
       "      <th>dimuon_dPhi</th>\n",
       "      <th>dimuon_dR</th>\n",
       "      <th>dimuon_ebe_mass_res</th>\n",
       "      <th>dimuon_ebe_mass_res_raw</th>\n",
       "      <th>dimuon_ebe_mass_res_rel</th>\n",
       "      <th>...</th>\n",
       "      <th>wgt_btag_wgt_nominal</th>\n",
       "      <th>wgt_genwgt_nominal</th>\n",
       "      <th>wgt_lumi_nominal</th>\n",
       "      <th>wgt_nominal</th>\n",
       "      <th>wgt_puid_wgt_nominal</th>\n",
       "      <th>wgt_zpt_wgt_nominal</th>\n",
       "      <th>year</th>\n",
       "      <th>zeppenfeld_nominal</th>\n",
       "      <th>zpt_weight</th>\n",
       "      <th>wgt_nnlops_nominal</th>\n",
       "    </tr>\n",
       "    <tr>\n",
       "      <th>entry</th>\n",
       "      <th></th>\n",
       "      <th></th>\n",
       "      <th></th>\n",
       "      <th></th>\n",
       "      <th></th>\n",
       "      <th></th>\n",
       "      <th></th>\n",
       "      <th></th>\n",
       "      <th></th>\n",
       "      <th></th>\n",
       "      <th></th>\n",
       "      <th></th>\n",
       "      <th></th>\n",
       "      <th></th>\n",
       "      <th></th>\n",
       "      <th></th>\n",
       "      <th></th>\n",
       "      <th></th>\n",
       "      <th></th>\n",
       "      <th></th>\n",
       "      <th></th>\n",
       "    </tr>\n",
       "  </thead>\n",
       "  <tbody>\n",
       "    <tr>\n",
       "      <th>35</th>\n",
       "      <td>0</td>\n",
       "      <td>dy_M-100To200</td>\n",
       "      <td>-0.490426</td>\n",
       "      <td>-0.492034</td>\n",
       "      <td>1.073242</td>\n",
       "      <td>2.954938</td>\n",
       "      <td>3.143805</td>\n",
       "      <td>1.620307</td>\n",
       "      <td>1.487324</td>\n",
       "      <td>0.015873</td>\n",
       "      <td>...</td>\n",
       "      <td>1.048492</td>\n",
       "      <td>0.111266</td>\n",
       "      <td>0.000107</td>\n",
       "      <td>0.111266</td>\n",
       "      <td>1.048492</td>\n",
       "      <td>1.048823</td>\n",
       "      <td>2018</td>\n",
       "      <td>NaN</td>\n",
       "      <td>1.048823</td>\n",
       "      <td>NaN</td>\n",
       "    </tr>\n",
       "    <tr>\n",
       "      <th>43</th>\n",
       "      <td>0</td>\n",
       "      <td>dy_M-100To200</td>\n",
       "      <td>-0.516126</td>\n",
       "      <td>0.517496</td>\n",
       "      <td>1.142090</td>\n",
       "      <td>2.840070</td>\n",
       "      <td>3.061105</td>\n",
       "      <td>1.619456</td>\n",
       "      <td>1.373690</td>\n",
       "      <td>0.014708</td>\n",
       "      <td>...</td>\n",
       "      <td>1.124836</td>\n",
       "      <td>-0.120647</td>\n",
       "      <td>0.000116</td>\n",
       "      <td>-0.120647</td>\n",
       "      <td>1.122005</td>\n",
       "      <td>1.125193</td>\n",
       "      <td>2018</td>\n",
       "      <td>NaN</td>\n",
       "      <td>1.125193</td>\n",
       "      <td>NaN</td>\n",
       "    </tr>\n",
       "    <tr>\n",
       "      <th>80</th>\n",
       "      <td>0</td>\n",
       "      <td>dy_M-100To200</td>\n",
       "      <td>-0.084984</td>\n",
       "      <td>0.088725</td>\n",
       "      <td>0.170380</td>\n",
       "      <td>2.548322</td>\n",
       "      <td>2.554011</td>\n",
       "      <td>1.331674</td>\n",
       "      <td>1.122277</td>\n",
       "      <td>0.009647</td>\n",
       "      <td>...</td>\n",
       "      <td>0.922364</td>\n",
       "      <td>0.097044</td>\n",
       "      <td>0.000093</td>\n",
       "      <td>0.097044</td>\n",
       "      <td>0.922364</td>\n",
       "      <td>0.922656</td>\n",
       "      <td>2018</td>\n",
       "      <td>NaN</td>\n",
       "      <td>0.922656</td>\n",
       "      <td>NaN</td>\n",
       "    </tr>\n",
       "    <tr>\n",
       "      <th>92</th>\n",
       "      <td>0</td>\n",
       "      <td>dy_M-100To200</td>\n",
       "      <td>0.262741</td>\n",
       "      <td>-0.315394</td>\n",
       "      <td>0.538101</td>\n",
       "      <td>1.641584</td>\n",
       "      <td>1.727527</td>\n",
       "      <td>1.924615</td>\n",
       "      <td>1.621981</td>\n",
       "      <td>0.013208</td>\n",
       "      <td>...</td>\n",
       "      <td>0.888915</td>\n",
       "      <td>0.098275</td>\n",
       "      <td>0.000094</td>\n",
       "      <td>0.098275</td>\n",
       "      <td>0.888915</td>\n",
       "      <td>0.969637</td>\n",
       "      <td>2018</td>\n",
       "      <td>NaN</td>\n",
       "      <td>0.969637</td>\n",
       "      <td>NaN</td>\n",
       "    </tr>\n",
       "    <tr>\n",
       "      <th>102</th>\n",
       "      <td>0</td>\n",
       "      <td>dy_M-100To200</td>\n",
       "      <td>0.649947</td>\n",
       "      <td>-0.634253</td>\n",
       "      <td>1.550415</td>\n",
       "      <td>2.382306</td>\n",
       "      <td>2.842388</td>\n",
       "      <td>1.036863</td>\n",
       "      <td>0.822187</td>\n",
       "      <td>0.011827</td>\n",
       "      <td>...</td>\n",
       "      <td>0.962957</td>\n",
       "      <td>0.114701</td>\n",
       "      <td>0.000110</td>\n",
       "      <td>0.114701</td>\n",
       "      <td>0.919403</td>\n",
       "      <td>0.968569</td>\n",
       "      <td>2018</td>\n",
       "      <td>2.268408</td>\n",
       "      <td>0.968569</td>\n",
       "      <td>NaN</td>\n",
       "    </tr>\n",
       "  </tbody>\n",
       "</table>\n",
       "<p>5 rows × 97 columns</p>\n",
       "</div>"
      ],
      "text/plain": [
       "       LHEMass        dataset  dimuon_cos_theta_cs  dimuon_cos_theta_cs_pisa  \\\n",
       "entry                                                                          \n",
       "35           0  dy_M-100To200            -0.490426                 -0.492034   \n",
       "43           0  dy_M-100To200            -0.516126                  0.517496   \n",
       "80           0  dy_M-100To200            -0.084984                  0.088725   \n",
       "92           0  dy_M-100To200             0.262741                 -0.315394   \n",
       "102          0  dy_M-100To200             0.649947                 -0.634253   \n",
       "\n",
       "       dimuon_dEta  dimuon_dPhi  dimuon_dR  dimuon_ebe_mass_res  \\\n",
       "entry                                                             \n",
       "35        1.073242     2.954938   3.143805             1.620307   \n",
       "43        1.142090     2.840070   3.061105             1.619456   \n",
       "80        0.170380     2.548322   2.554011             1.331674   \n",
       "92        0.538101     1.641584   1.727527             1.924615   \n",
       "102       1.550415     2.382306   2.842388             1.036863   \n",
       "\n",
       "       dimuon_ebe_mass_res_raw  dimuon_ebe_mass_res_rel  ...  \\\n",
       "entry                                                    ...   \n",
       "35                    1.487324                 0.015873  ...   \n",
       "43                    1.373690                 0.014708  ...   \n",
       "80                    1.122277                 0.009647  ...   \n",
       "92                    1.621981                 0.013208  ...   \n",
       "102                   0.822187                 0.011827  ...   \n",
       "\n",
       "       wgt_btag_wgt_nominal  wgt_genwgt_nominal  wgt_lumi_nominal  \\\n",
       "entry                                                               \n",
       "35                 1.048492            0.111266          0.000107   \n",
       "43                 1.124836           -0.120647          0.000116   \n",
       "80                 0.922364            0.097044          0.000093   \n",
       "92                 0.888915            0.098275          0.000094   \n",
       "102                0.962957            0.114701          0.000110   \n",
       "\n",
       "       wgt_nominal  wgt_puid_wgt_nominal  wgt_zpt_wgt_nominal  year  \\\n",
       "entry                                                                 \n",
       "35        0.111266              1.048492             1.048823  2018   \n",
       "43       -0.120647              1.122005             1.125193  2018   \n",
       "80        0.097044              0.922364             0.922656  2018   \n",
       "92        0.098275              0.888915             0.969637  2018   \n",
       "102       0.114701              0.919403             0.968569  2018   \n",
       "\n",
       "       zeppenfeld_nominal  zpt_weight  wgt_nnlops_nominal  \n",
       "entry                                                      \n",
       "35                    NaN    1.048823                 NaN  \n",
       "43                    NaN    1.125193                 NaN  \n",
       "80                    NaN    0.922656                 NaN  \n",
       "92                    NaN    0.969637                 NaN  \n",
       "102              2.268408    0.968569                 NaN  \n",
       "\n",
       "[5 rows x 97 columns]"
      ]
     },
     "execution_count": 66,
     "metadata": {},
     "output_type": "execute_result"
    }
   ],
   "source": [
    "import pandas as pd\n",
    "\n",
    "year=2018\n",
    "df = pd.read_pickle(f\"/depot/cms/hmm/vscheure/training_dataset_ggHnew_{year}.pickle\")\n",
    "df.head()"
   ]
  },
  {
   "cell_type": "code",
   "execution_count": 3,
   "id": "bab08acf-7ddf-4ed5-8213-9bad61633aae",
   "metadata": {},
   "outputs": [],
   "source": [
    "import awkward as ak\n",
    "import dask_awkward as dak\n",
    "import copy\n",
    "import pandas as pd\n",
    "\n",
    "path = \"/depot/cms/users/yun79/hmm/copperheadV1clean/DmitryMaster_JECoff_GeofitFixed_Nov01/stage1_output//2016/dy_m105_160_amc\"\n",
    "events = ak.from_parquet(f\"{path}/0073360f1c1537cb5c7d3984765f88bb.parquet\")\n",
    "fields = copy.deepcopy(events.fields)\n",
    "fields.remove(\"dataset\")\n",
    "ak_dict = {field: list(events[field]) for field in fields}\n",
    "df_ak = pd.DataFrame(ak_dict)\n",
    "# df_ak = ak.to_dataframe(events)"
   ]
  },
  {
   "cell_type": "code",
   "execution_count": null,
   "id": "102a2695-8ff2-44d3-abd7-b05bd9346906",
   "metadata": {},
   "outputs": [],
   "source": [
    "df_ak"
   ]
  },
  {
   "cell_type": "code",
   "execution_count": 78,
   "id": "7374f386-32f4-4dc5-b0df-b9ce1bc77119",
   "metadata": {
    "scrolled": true
   },
   "outputs": [
    {
     "ename": "AttributeError",
     "evalue": "no field named 'dataset'",
     "output_type": "error",
     "traceback": [
      "\u001b[0;31m---------------------------------------------------------------------------\u001b[0m",
      "\u001b[0;31mAttributeError\u001b[0m                            Traceback (most recent call last)",
      "Cell \u001b[0;32mIn[78], line 3\u001b[0m\n\u001b[1;32m      1\u001b[0m \u001b[38;5;66;03m# events.fields\u001b[39;00m\n\u001b[1;32m      2\u001b[0m \u001b[38;5;66;03m# type(ak.to_dataframe(events.dataset))\u001b[39;00m\n\u001b[0;32m----> 3\u001b[0m \u001b[38;5;28mlist\u001b[39m(\u001b[43mevents\u001b[49m\u001b[38;5;241;43m.\u001b[39;49m\u001b[43mdataset\u001b[49m)\n",
      "File \u001b[0;32m/depot/cms/kernels/root632/lib/python3.12/site-packages/awkward/highlevel.py:1240\u001b[0m, in \u001b[0;36mArray.__getattr__\u001b[0;34m(self, where)\u001b[0m\n\u001b[1;32m   1235\u001b[0m         \u001b[38;5;28;01mraise\u001b[39;00m \u001b[38;5;167;01mAttributeError\u001b[39;00m(\n\u001b[1;32m   1236\u001b[0m             \u001b[38;5;124mf\u001b[39m\u001b[38;5;124m\"\u001b[39m\u001b[38;5;124mwhile trying to get field \u001b[39m\u001b[38;5;132;01m{\u001b[39;00mwhere\u001b[38;5;132;01m!r}\u001b[39;00m\u001b[38;5;124m, an exception \u001b[39m\u001b[38;5;124m\"\u001b[39m\n\u001b[1;32m   1237\u001b[0m             \u001b[38;5;124mf\u001b[39m\u001b[38;5;124m\"\u001b[39m\u001b[38;5;124moccurred:\u001b[39m\u001b[38;5;130;01m\\n\u001b[39;00m\u001b[38;5;132;01m{\u001b[39;00m\u001b[38;5;28mtype\u001b[39m(err)\u001b[38;5;132;01m}\u001b[39;00m\u001b[38;5;124m: \u001b[39m\u001b[38;5;132;01m{\u001b[39;00merr\u001b[38;5;132;01m!s}\u001b[39;00m\u001b[38;5;124m\"\u001b[39m\n\u001b[1;32m   1238\u001b[0m         ) \u001b[38;5;28;01mfrom\u001b[39;00m \u001b[38;5;21;01merr\u001b[39;00m\n\u001b[1;32m   1239\u001b[0m \u001b[38;5;28;01melse\u001b[39;00m:\n\u001b[0;32m-> 1240\u001b[0m     \u001b[38;5;28;01mraise\u001b[39;00m \u001b[38;5;167;01mAttributeError\u001b[39;00m(\u001b[38;5;124mf\u001b[39m\u001b[38;5;124m\"\u001b[39m\u001b[38;5;124mno field named \u001b[39m\u001b[38;5;132;01m{\u001b[39;00mwhere\u001b[38;5;132;01m!r}\u001b[39;00m\u001b[38;5;124m\"\u001b[39m)\n",
      "\u001b[0;31mAttributeError\u001b[0m: no field named 'dataset'"
     ]
    }
   ],
   "source": [
    "# events.fields\n",
    "# type(ak.to_dataframe(events.dataset))\n",
    "list(events.dataset)"
   ]
  },
  {
   "cell_type": "code",
   "execution_count": 28,
   "id": "b1303c9a-9cad-4a73-a753-2d55b393d2ff",
   "metadata": {},
   "outputs": [
    {
     "name": "stdout",
     "output_type": "stream",
     "text": [
      "data_A\t\t     ewk_lljj_mll105_160_ptj0\t    ttjets_dl\t       wz_2l2q\n",
      "data_B\t\t     ewk_lljj_mll105_160_py_dipole  ttjets_sl\t       wz_3lnu\n",
      "data_C\t\t     ggh_amcPS\t\t\t    vbf_powheg_dipole  zz\n",
      "data_D\t\t     ggh_powhegPS\t\t    vbf_powheg_herwig\n",
      "dy_m105_160_amc      st_tw_antitop\t\t    vbf_powhegPS\n",
      "dy_m105_160_vbf_amc  st_tw_top\t\t\t    ww_2l2nu\n"
     ]
    }
   ],
   "source": [
    "! ls /depot/cms/users/yun79/hmm/copperheadV1clean/DmitryMaster_JECoff_GeofitFixed_Nov01/stage1_output//2018/"
   ]
  },
  {
   "cell_type": "code",
   "execution_count": 65,
   "id": "37bbfc74-aac4-4c15-b0f6-b1a6345616ed",
   "metadata": {},
   "outputs": [
    {
     "name": "stdout",
     "output_type": "stream",
     "text": [
      "scalers_test_2018_0.npy  scalers_test_2018_3.npy  test_2018_2.pkl\n",
      "scalers_test_2018_1.npy  test_2018_0.pkl\t  test_2018_3.pkl\n",
      "scalers_test_2018_2.npy  test_2018_1.pkl\n"
     ]
    }
   ],
   "source": [
    "! ls /depot/cms/users/yun79/hmm/trained_MVAs/bdt_test_2018"
   ]
  },
  {
   "cell_type": "code",
   "execution_count": 72,
   "id": "50bc93de-1450-4ea8-86ea-06a2cf307ca1",
   "metadata": {},
   "outputs": [
    {
     "name": "stdout",
     "output_type": "stream",
     "text": [
      "scalers_WgtOff_includeQGL_2018_0.npy  WgtOff_includeQGL_2018_0.pkl\n",
      "scalers_WgtOff_includeQGL_2018_1.npy  WgtOff_includeQGL_2018_1.pkl\n",
      "scalers_WgtOff_includeQGL_2018_2.npy  WgtOff_includeQGL_2018_2.pkl\n",
      "scalers_WgtOff_includeQGL_2018_3.npy  WgtOff_includeQGL_2018_3.pkl\n"
     ]
    }
   ],
   "source": [
    "! ls /depot/cms/users/yun79/hmm/trained_MVAs/bdt_WgtOff_includeQGL_2018"
   ]
  },
  {
   "cell_type": "code",
   "execution_count": 94,
   "id": "c5ccb74e-46fd-49e4-8529-b742fab86128",
   "metadata": {},
   "outputs": [
    {
     "name": "stdout",
     "output_type": "stream",
     "text": [
      "0.2667076541487307\n",
      "3976748\n",
      "3978301\n"
     ]
    }
   ],
   "source": [
    "stage2_save_path = \"/work/users/yun79/stage2_output/BDT_test_WgtON_original_AN_BDT_DyOnly_AllSigNBkg_NewBDTedges20Sept2024\" # path where stage2 output is saved \n",
    "import awkward as ak\n",
    "events = ak.from_parquet(stage2_save_path + \"/ggh/2018/processed_events_bkgMC*.parquet\")\n",
    "# events = ak.from_parquet(stage2_save_path + \"/ggh/2018/processed_events_sigMC_ggh.parquet\")\n",
    "\n",
    "not_identical = ak.sum(events.subCategory_idx != events.subCategory_idx_val)\n",
    "rate = not_identical/len(events.subCategory_idx)\n",
    "print(rate)\n",
    "print(ak.sum(events.subCategory_idx ==0))\n",
    "print(ak.sum(events.subCategory_idx_val ==0))"
   ]
  },
  {
   "cell_type": "code",
   "execution_count": 84,
   "id": "180b3a56-e9e9-4956-9af4-8dfc409f3659",
   "metadata": {},
   "outputs": [
    {
     "data": {
      "image/png": "[encoded data removed]",
      "text/plain": [
       "<Figure size 640x480 with 1 Axes>"
      ]
     },
     "metadata": {},
     "output_type": "display_data"
    }
   ],
   "source": [
    "import numpy as np\n",
    "import matplotlib.pyplot as plt\n",
    "events = ak.from_parquet(stage2_save_path + \"/ggh/2018/processed_events_bkgMC*.parquet\")\n",
    "# events = ak.from_parquet(stage2_save_path + \"/ggh/2018/processed_events_sigMC_ggh.parquet\")\n",
    "binning = np.linspace(-1,5,7)\n",
    "results_eval, edges = np.histogram(events.subCategory_idx ,bins=binning)\n",
    "plt.stairs(results_eval, edges=edges, label=\"results_eval\")\n",
    "results_val, edges = np.histogram(events.subCategory_idx_val ,bins=binning)\n",
    "plt.stairs(results_val, edges=edges, label=\"results_val\")\n",
    "plt.legend()\n",
    "plt.show()"
   ]
  },
  {
   "cell_type": "code",
   "execution_count": 68,
   "id": "b9971e49-7ac5-4aca-bd68-188abe38fe8f",
   "metadata": {},
   "outputs": [
    {
     "name": "stdout",
     "output_type": "stream",
     "text": [
      "processed_events_bkgMC_dy.parquet   processed_events_data.parquet\n",
      "processed_events_bkgMC_ewk.parquet  processed_events_sigMC_ggh.parquet\n",
      "processed_events_bkgMC_st.parquet   processed_events_sigMC_vbf.parquet\n",
      "processed_events_bkgMC_tt.parquet\n"
     ]
    }
   ],
   "source": [
    "! ls /work/users/yun79/stage2_output/BDT_test_WgtON_original_AN_BDT_DyOnly_AllSigNBkg_NewBDTedges20Sept2024/ggh/2018"
   ]
  },
  {
   "cell_type": "code",
   "execution_count": null,
   "id": "e1459247-f68f-4031-85e2-b10164d5e3bc",
   "metadata": {},
   "outputs": [],
   "source": [
    "stage"
   ]
  }
 ],
 "metadata": {
  "kernelspec": {
   "display_name": "Python [conda env:root632]",
   "language": "python",
   "name": "conda-env-root632-py"
  },
  "language_info": {
   "codemirror_mode": {
    "name": "ipython",
    "version": 3
   },
   "file_extension": ".py",
   "mimetype": "text/x-python",
   "name": "python",
   "nbconvert_exporter": "python",
   "pygments_lexer": "ipython3",
   "version": "3.12.7"
  }
 },
 "nbformat": 4,
 "nbformat_minor": 5
}
